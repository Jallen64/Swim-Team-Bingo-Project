{
 "cells": [
  {
   "cell_type": "code",
   "execution_count": 1,
   "metadata": {
    "collapsed": true
   },
   "outputs": [],
   "source": [
    "import pandas as pd\n",
    "import numpy as np\n",
    "import math"
   ]
  },
  {
   "cell_type": "code",
   "execution_count": 2,
   "metadata": {},
   "outputs": [],
   "source": [
    "main_df = pd.read_csv('bingo.csv')"
   ]
  },
  {
   "cell_type": "code",
   "execution_count": null,
   "metadata": {
    "collapsed": true
   },
   "outputs": [],
   "source": [
    "main_df = main_df.drop"
   ]
  },
  {
   "cell_type": "code",
   "execution_count": 3,
   "metadata": {},
   "outputs": [],
   "source": [
    "age_df = main_df[['AgeGroup','LastName_FirstName']]\n",
    "age_df=age_df.set_index('LastName_FirstName')\n",
    "age_df = age_df[~age_df.index.duplicated(keep='first')]\n",
    "age_group = age_df['AgeGroup'].tolist()"
   ]
  },
  {
   "cell_type": "code",
   "execution_count": 4,
   "metadata": {},
   "outputs": [],
   "source": [
    "#Creates targeted dataframe\n",
    "target_df = main_df[['LastName_FirstName','Meet1-Improved','Meet2-Improved','Meet3-Improved','Meet4-Improved','Meet5-Improved','Meet6-Improved']]\n",
    "target_df = target_df.set_index('LastName_FirstName')"
   ]
  },
  {
   "cell_type": "code",
   "execution_count": 5,
   "metadata": {},
   "outputs": [],
   "source": [
    "#Deletes the first instance of true in each row\n",
    "condition = target_df.cumsum(axis=1) == 1\n",
    "target_df = target_df.mask(condition, False)"
   ]
  },
  {
   "cell_type": "code",
   "execution_count": 6,
   "metadata": {},
   "outputs": [],
   "source": [
    "#Creates list of unique names\n",
    "big_list = target_df.index.unique()"
   ]
  },
  {
   "cell_type": "code",
   "execution_count": 7,
   "metadata": {},
   "outputs": [],
   "source": [
    "names = [] #Stores Names\n",
    "bingos = [] #Stores Bingo Score\n",
    "\n",
    "#Sepereates all of the different names in temp dataframe\n",
    "for name in big_list:\n",
    "    temp_df = target_df.copy()\n",
    "    temp_df = temp_df.loc[temp_df.index == name]\n",
    "    \n",
    "    #Counts the number of bingos each swimmer achieved\n",
    "    score=0\n",
    "    for column in temp_df:\n",
    "        x = np.sum(temp_df[column])\n",
    "       \n",
    "        if math.isnan(x) is True:\n",
    "            x=0\n",
    "        \n",
    "        if x > 2:\n",
    "            score = score + 1\n",
    "    \n",
    "    names.append(name)\n",
    "    bingos.append(score)\n"
   ]
  },
  {
   "cell_type": "code",
   "execution_count": 8,
   "metadata": {},
   "outputs": [],
   "source": [
    "#Create results dataframe\n",
    "final_df = pd.DataFrame({'Age Group': age_group,'Name': names,'Bingo Count': bingos})\n",
    "final_df = final_df.set_index('Name')"
   ]
  },
  {
   "cell_type": "code",
   "execution_count": 9,
   "metadata": {
    "scrolled": true
   },
   "outputs": [],
   "source": [
    "final_df.to_csv('final.csv')"
   ]
  }
 ],
 "metadata": {
  "kernelspec": {
   "display_name": "Python 3",
   "language": "python",
   "name": "python3"
  },
  "language_info": {
   "codemirror_mode": {
    "name": "ipython",
    "version": 3
   },
   "file_extension": ".py",
   "mimetype": "text/x-python",
   "name": "python",
   "nbconvert_exporter": "python",
   "pygments_lexer": "ipython3",
   "version": "3.6.3"
  }
 },
 "nbformat": 4,
 "nbformat_minor": 2
}
